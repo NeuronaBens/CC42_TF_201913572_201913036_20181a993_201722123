{
  "nbformat": 4,
  "nbformat_minor": 0,
  "metadata": {
    "colab": {
      "name": "Generación de dataset para TP de Complejidad Algorítmica",
      "provenance": [],
      "authorship_tag": "ABX9TyNAuNFoCEvLTga26WpDPTty",
      "include_colab_link": true
    },
    "kernelspec": {
      "name": "python3",
      "display_name": "Python 3"
    },
    "language_info": {
      "name": "python"
    }
  },
  "cells": [
    {
      "cell_type": "markdown",
      "metadata": {
        "id": "view-in-github",
        "colab_type": "text"
      },
      "source": [
        "<a href=\"https://colab.research.google.com/github/NeuronaBens/cc42_tf_201913572_201913036_20181a993_201722123/blob/main/DatasetGenerator.ipynb\" target=\"_parent\"><img src=\"https://colab.research.google.com/assets/colab-badge.svg\" alt=\"Open In Colab\"/></a>"
      ]
    },
    {
      "cell_type": "markdown",
      "metadata": {
        "id": "7EaA9gwq2_5a"
      },
      "source": [
        "# Generación del dataset\n",
        "\n",
        "Este es el código fuente que se utilizó para la generación del dataset tanto para almacenes (almacenes.csv) como para puntos de entrega (puntos_entrega.csv)"
      ]
    },
    {
      "cell_type": "code",
      "metadata": {
        "id": "8ClcyCFUy4m2"
      },
      "source": [
        "import random as r\n",
        "import numpy as np\n",
        "import numpy.random as npr"
      ],
      "execution_count": null,
      "outputs": []
    },
    {
      "cell_type": "code",
      "metadata": {
        "colab": {
          "base_uri": "https://localhost:8080/"
        },
        "id": "ZQ6mtcpcU8MK",
        "outputId": "602ddcae-893d-4132-9938-9ae7c2e70fe6"
      },
      "source": [
        "almacenes = npr.randint(0, 2000, (r.randint(50,100), 2), dtype=np.int) # (valor mínimo, valor máximo, (cant mín, 2), tipo de valor)\n",
        "print(almacenes)\n",
        "np.savetxt('almacenes.csv', almacenes, fmt=\"%i\", delimiter=\",\", header=\"x,y\", comments=\"\")"
      ],
      "execution_count": 23,
      "outputs": [
        {
          "output_type": "stream",
          "name": "stdout",
          "text": [
            "[[1222 1270]\n",
            " [1958  167]\n",
            " [  43  223]\n",
            " [1148 1277]\n",
            " [ 176  422]\n",
            " [1243  579]\n",
            " [ 873 1633]\n",
            " [1259 1758]\n",
            " [ 292    3]\n",
            " [ 499  692]\n",
            " [1955  263]\n",
            " [ 550   30]\n",
            " [ 733  995]\n",
            " [1661 1824]\n",
            " [ 892 1932]\n",
            " [1306  163]\n",
            " [ 529  611]\n",
            " [ 686  579]\n",
            " [1738 1618]\n",
            " [1807  861]\n",
            " [ 683  320]\n",
            " [  41 1957]\n",
            " [ 318  498]\n",
            " [ 211 1810]\n",
            " [ 665 1857]\n",
            " [1434  596]\n",
            " [1741 1839]\n",
            " [1278 1577]\n",
            " [ 795  313]\n",
            " [1045 1563]\n",
            " [1111 1866]\n",
            " [ 546  646]\n",
            " [1309  188]\n",
            " [1267 1165]\n",
            " [1053 1659]\n",
            " [ 140 1141]\n",
            " [1875  791]\n",
            " [  97 1427]\n",
            " [1490  692]\n",
            " [ 465  719]\n",
            " [1592 1958]\n",
            " [1961 1005]\n",
            " [1049 1669]\n",
            " [1226  504]\n",
            " [ 580 1289]\n",
            " [  90  261]\n",
            " [ 782 1958]\n",
            " [1673  509]\n",
            " [1437 1173]\n",
            " [ 258  764]\n",
            " [ 273 1921]\n",
            " [ 140  961]\n",
            " [ 989 1906]\n",
            " [ 710  978]\n",
            " [ 551 1323]\n",
            " [  96 1771]\n",
            " [ 992 1447]\n",
            " [ 720 1134]\n",
            " [ 209 1039]\n",
            " [1385  115]\n",
            " [ 680 1258]\n",
            " [1167 1158]\n",
            " [ 819  504]\n",
            " [ 805  919]\n",
            " [ 606  442]\n",
            " [ 623  581]\n",
            " [1690    9]\n",
            " [ 157 1244]\n",
            " [1202 1879]\n",
            " [1120 1321]\n",
            " [1876  426]\n",
            " [1149 1128]\n",
            " [ 992  923]\n",
            " [1173 1040]\n",
            " [ 923 1822]\n",
            " [1158 1509]\n",
            " [ 887 1113]\n",
            " [ 920   80]]\n"
          ]
        }
      ]
    },
    {
      "cell_type": "code",
      "metadata": {
        "colab": {
          "base_uri": "https://localhost:8080/"
        },
        "id": "ivIMqXmrY0ZD",
        "outputId": "57bc2fb8-59a6-479e-ecda-1aa47cb9ebea"
      },
      "source": [
        "puntosEntrega = npr.randint(0, 2000, (r.randint(2500,5000), 2), dtype=np.int) # (valor mínimo, valor máximo, (cant mín, 2), tipo de valor)\n",
        "print(puntosEntrega)\n",
        "np.savetxt('puntos_entrega.csv', puntosEntrega, fmt=\"%i\", delimiter=\",\", header=\"x,y\", comments=\"\")"
      ],
      "execution_count": 22,
      "outputs": [
        {
          "output_type": "stream",
          "name": "stdout",
          "text": [
            "[[ 135 1988]\n",
            " [ 774  545]\n",
            " [  54  495]\n",
            " ...\n",
            " [   2 1711]\n",
            " [1752 1605]\n",
            " [1907  812]]\n"
          ]
        }
      ]
    }
  ]
}